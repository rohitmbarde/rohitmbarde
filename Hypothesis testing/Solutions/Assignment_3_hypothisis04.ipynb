{
 "cells": [
  {
   "cell_type": "markdown",
   "id": "826802fc",
   "metadata": {},
   "source": [
    "Problem Statement :\n",
    "TeleCall uses 4 centers around the globe to process customer order forms. They audit a certain % of the customer order forms. Any error in order form renders it defective and has to be reworked before processing. The manager wants to check whether the defective % varies by centre. Please analyze the data at 5% significance level and help the manager draw appropriate inferences"
   ]
  },
  {
   "cell_type": "markdown",
   "id": "837d8b70",
   "metadata": {},
   "source": [
    "Business Problem\n",
    "Does the defective % varies significantly by centre ?"
   ]
  },
  {
   "cell_type": "markdown",
   "id": "c6943c34",
   "metadata": {},
   "source": [
    "Data description\n",
    "α == 0.05 (95% Confidence)\n",
    "\n",
    "Y == Discrete\n",
    "X == Discrete\n",
    "\n",
    "Since there are more than 2 variable we will perform Chi-Square test"
   ]
  },
  {
   "cell_type": "code",
   "execution_count": 3,
   "id": "5bc48b6c",
   "metadata": {},
   "outputs": [],
   "source": [
    "#Chi-Square Test\n",
    "\n",
    "import pandas as pd\n",
    "import numpy as np\n",
    "from scipy import stats\n",
    "\n",
    "df = pd.read_csv(\"C:/Users/Rohit/Desktop/DS Assignments/Hypothesis testing/material/Costomer+OrderForm.csv\")"
   ]
  },
  {
   "cell_type": "markdown",
   "id": "0b549799",
   "metadata": {},
   "source": [
    "H0 == The defective % does not varies by centre\n",
    "H1 == The defective % does varies by centre"
   ]
  },
  {
   "cell_type": "code",
   "execution_count": 4,
   "id": "cfe35e97",
   "metadata": {},
   "outputs": [
    {
     "data": {
      "text/plain": [
       "(3.8589606858203545,\n",
       " 0.2771020991233144,\n",
       " 3,\n",
       " array([[271.75,  28.25],\n",
       "        [271.75,  28.25],\n",
       "        [271.75,  28.25],\n",
       "        [271.75,  28.25]]))"
      ]
     },
     "execution_count": 4,
     "metadata": {},
     "output_type": "execute_result"
    }
   ],
   "source": [
    "stats.chi2_contingency([df['Phillippines'].value_counts(), df['Indonesia'].value_counts(), df['Malta'].value_counts(), df['India'].value_counts()])"
   ]
  },
  {
   "cell_type": "markdown",
   "id": "22cd9b2c",
   "metadata": {},
   "source": [
    "P value of Chi-Square test == 0.277 > α\n",
    "\n",
    "Thus HO is accepted.\n",
    "The defective % does not varies significantly by centres\n",
    " "
   ]
  }
 ],
 "metadata": {
  "kernelspec": {
   "display_name": "Python 3",
   "language": "python",
   "name": "python3"
  },
  "language_info": {
   "codemirror_mode": {
    "name": "ipython",
    "version": 3
   },
   "file_extension": ".py",
   "mimetype": "text/x-python",
   "name": "python",
   "nbconvert_exporter": "python",
   "pygments_lexer": "ipython3",
   "version": "3.8.8"
  }
 },
 "nbformat": 4,
 "nbformat_minor": 5
}
