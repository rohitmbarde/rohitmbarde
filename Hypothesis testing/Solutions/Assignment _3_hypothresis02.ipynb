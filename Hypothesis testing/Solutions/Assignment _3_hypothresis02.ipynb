{
 "cells": [
  {
   "cell_type": "markdown",
   "id": "6a911c6a",
   "metadata": {},
   "source": [
    "Problem Statement :\n",
    "A hospital wants to determine whether there is any difference in the average Turn Around Time (TAT) of reports of the laboratories on their preferred list. They collected a random sample and recorded TAT for reports of 4 laboratories. TAT is defined as sample collected to report dispatch\n",
    "\n",
    "Analyze the data and determine whether there is any difference in average TAT among the different laboratories at 5% significance level"
   ]
  },
  {
   "cell_type": "markdown",
   "id": "c0e4e85d",
   "metadata": {},
   "source": [
    "Business Problem\n",
    "Is there a significant difference in the average Turn Around Time between laboratories ?"
   ]
  },
  {
   "cell_type": "markdown",
   "id": "a7687a88",
   "metadata": {},
   "source": [
    "Data description\n",
    "α == 0.05 (95% Confidence)\n",
    "\n",
    "Y == Continious\n",
    "X == Discrete\n",
    "\n",
    "Is Y1, Y2, Y3 and Y4 normal ?\n",
    "\n",
    "H0 = Y1, Y2, Y3 and Y4 are normal\n",
    "H1 = Y1, Y2, Y3 and Y4 are not normal"
   ]
  },
  {
   "cell_type": "code",
   "execution_count": 5,
   "id": "72c477c5",
   "metadata": {},
   "outputs": [],
   "source": [
    "#Normality Test\n",
    "\n",
    "import pandas as pd\n",
    "import numpy as np\n",
    "import scipy \n",
    "from scipy import stats\n",
    "\n",
    "df=pd.read_csv(\"C:/Users/Rohit/Desktop/DS Assignments/Hypothesis testing/material/LabTAT.csv\")"
   ]
  },
  {
   "cell_type": "code",
   "execution_count": 6,
   "id": "c8a856b9",
   "metadata": {},
   "outputs": [
    {
     "data": {
      "text/plain": [
       "ShapiroResult(statistic=0.9901824593544006, pvalue=0.5506953597068787)"
      ]
     },
     "execution_count": 6,
     "metadata": {},
     "output_type": "execute_result"
    }
   ],
   "source": [
    "stats.shapiro(df['Laboratory 1'])"
   ]
  },
  {
   "cell_type": "markdown",
   "id": "8ad91124",
   "metadata": {},
   "source": [
    "0.9901824593544006, 0.5506953597068787)\n",
    "P value for Laboratory 1 == 0.55 > α"
   ]
  },
  {
   "cell_type": "code",
   "execution_count": 7,
   "id": "946d7db7",
   "metadata": {},
   "outputs": [
    {
     "data": {
      "text/plain": [
       "ShapiroResult(statistic=0.9936322569847107, pvalue=0.8637524843215942)"
      ]
     },
     "execution_count": 7,
     "metadata": {},
     "output_type": "execute_result"
    }
   ],
   "source": [
    "stats.shapiro(df['Laboratory 2'])"
   ]
  },
  {
   "cell_type": "markdown",
   "id": "aec2ce55",
   "metadata": {},
   "source": [
    "0.9936322569847107, pvalue=0.8637524843215942)\n",
    "P value for Laboratory 2 == 0.86 > α"
   ]
  },
  {
   "cell_type": "code",
   "execution_count": 8,
   "id": "5e763b4b",
   "metadata": {},
   "outputs": [
    {
     "data": {
      "text/plain": [
       "ShapiroResult(statistic=0.9886345267295837, pvalue=0.4205053448677063)"
      ]
     },
     "execution_count": 8,
     "metadata": {},
     "output_type": "execute_result"
    }
   ],
   "source": [
    "stats.shapiro(df['Laboratory 3'])"
   ]
  },
  {
   "cell_type": "markdown",
   "id": "a51cb4cc",
   "metadata": {},
   "source": [
    "0.9886345267295837, pvalue=0.4205053448677063)\n",
    "P value for Laboratory 3 == 0.42 > α"
   ]
  },
  {
   "cell_type": "code",
   "execution_count": 9,
   "id": "66118f6a",
   "metadata": {},
   "outputs": [
    {
     "data": {
      "text/plain": [
       "ShapiroResult(statistic=0.9913753271102905, pvalue=0.6618951559066772)"
      ]
     },
     "execution_count": 9,
     "metadata": {},
     "output_type": "execute_result"
    }
   ],
   "source": [
    "stats.shapiro(df['Laboratory 4'])"
   ]
  },
  {
   "cell_type": "markdown",
   "id": "8553f06a",
   "metadata": {},
   "source": [
    "0.9913753271102905, pvalue=0.6618951559066772)\n",
    "P value for Laboratory 4 == 0.66 > α"
   ]
  },
  {
   "cell_type": "markdown",
   "id": "f16ffbf0",
   "metadata": {},
   "source": [
    "HO is accepted. Thats is Y1, Y2, Y3, and Y4 are normal"
   ]
  },
  {
   "cell_type": "markdown",
   "id": "41db248a",
   "metadata": {},
   "source": [
    "Variance\n",
    "H0 == Variance of all 4 laboratories are the same\n",
    "H1 == Variance of all 4 laboratories are the not same"
   ]
  },
  {
   "cell_type": "code",
   "execution_count": 12,
   "id": "3c195346",
   "metadata": {},
   "outputs": [
    {
     "data": {
      "text/plain": [
       "LeveneResult(statistic=2.599642500418024, pvalue=0.05161343808309816)"
      ]
     },
     "execution_count": 12,
     "metadata": {},
     "output_type": "execute_result"
    }
   ],
   "source": [
    "stats.levene(df[\"Laboratory 1\"],df[\"Laboratory 2\"],df[\"Laboratory 3\"],df[\"Laboratory 4\"])"
   ]
  },
  {
   "cell_type": "code",
   "execution_count": null,
   "id": "db42183c",
   "metadata": {},
   "outputs": [],
   "source": [
    "LeveneResult(statistic=2.599642500418024, pvalue=0.05161343808309816)\n",
    "P Value of Variance test is == 0.051 > α"
   ]
  },
  {
   "cell_type": "markdown",
   "id": "cf952e67",
   "metadata": {},
   "source": [
    "H0 is accepted\n",
    "Thus we will perform one way Anova Test"
   ]
  },
  {
   "cell_type": "markdown",
   "id": "ec8c4579",
   "metadata": {},
   "source": [
    "H0 == Mean TAT for 4 laboratories equal (There is no significance difference between TAT of the laboratories)\n",
    "H1 == Mean TAT for 4 laboratories not equal (There is a significance difference between TAT of the laboratories)"
   ]
  },
  {
   "cell_type": "code",
   "execution_count": 13,
   "id": "b14665f7",
   "metadata": {},
   "outputs": [
    {
     "data": {
      "text/plain": [
       "F_onewayResult(statistic=118.70421654401437, pvalue=2.1156708949992414e-57)"
      ]
     },
     "execution_count": 13,
     "metadata": {},
     "output_type": "execute_result"
    }
   ],
   "source": [
    "stats.f_oneway(df[\"Laboratory 1\"],df[\"Laboratory 2\"],df[\"Laboratory 3\"],df[\"Laboratory 4\"])"
   ]
  },
  {
   "cell_type": "markdown",
   "id": "2097ee10",
   "metadata": {},
   "source": [
    "F_onewayResult(statistic=118.70421654401437, pvalue=2.1156708949992414e-57)\n",
    "P value of the One way Anova test is == 2e-16 < α\n",
    "\n",
    "Thus H1 is accepted.\n",
    "Mean TAT for 4 laboratories not equal (There is a significance difference between TAT of the laboratories)"
   ]
  }
 ],
 "metadata": {
  "kernelspec": {
   "display_name": "Python 3",
   "language": "python",
   "name": "python3"
  },
  "language_info": {
   "codemirror_mode": {
    "name": "ipython",
    "version": 3
   },
   "file_extension": ".py",
   "mimetype": "text/x-python",
   "name": "python",
   "nbconvert_exporter": "python",
   "pygments_lexer": "ipython3",
   "version": "3.8.8"
  }
 },
 "nbformat": 4,
 "nbformat_minor": 5
}
